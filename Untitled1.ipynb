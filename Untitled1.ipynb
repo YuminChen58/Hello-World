{
 "cells": [
  {
   "cell_type": "code",
   "execution_count": null,
   "metadata": {},
   "outputs": [],
   "source": [
    "TensorFlow is based on graph based computation – “what on earth is that?”, you might say.  It’s an alternative way of conceptualising mathematical calculations.  Consider the following expression \n",
    "a=(b+c)∗(c+2)\n",
    ".  We can break this function down into the following components:\n",
    "\n",
    "\n",
    "\n",
    "\n",
    "\n",
    "\n",
    "d=b+ce=c+2a=d∗e\n",
    "Now we can represent these operations graphically as:"
   ]
  }
 ],
 "metadata": {
  "kernelspec": {
   "display_name": "Python 3",
   "language": "python",
   "name": "python3"
  },
  "language_info": {
   "codemirror_mode": {
    "name": "ipython",
    "version": 3
   },
   "file_extension": ".py",
   "mimetype": "text/x-python",
   "name": "python",
   "nbconvert_exporter": "python",
   "pygments_lexer": "ipython3",
   "version": "3.7.0"
  }
 },
 "nbformat": 4,
 "nbformat_minor": 2
}
